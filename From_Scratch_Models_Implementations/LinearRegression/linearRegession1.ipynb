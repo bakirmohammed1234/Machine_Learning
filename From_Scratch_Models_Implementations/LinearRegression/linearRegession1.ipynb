{
 "cells": [
  {
   "cell_type": "code",
   "execution_count": 67,
   "id": "6b1dfe54-90ea-41f2-9a9d-0027dfa9daab",
   "metadata": {},
   "outputs": [],
   "source": [
    "import numpy as np\n",
    "import matplotlib.pyplot as plt\n",
    "from sklearn.datasets import make_regression"
   ]
  },
  {
   "cell_type": "code",
   "execution_count": 219,
   "id": "2fb2465c-fa01-4000-a451-c8fc64c0bc23",
   "metadata": {},
   "outputs": [],
   "source": [
    "X, y = make_regression(n_samples=100, n_features=1, noise=10, random_state=42)\n"
   ]
  },
  {
   "cell_type": "code",
   "execution_count": 198,
   "id": "af5cf78b-c97e-4df7-9b9f-751ebc4322ee",
   "metadata": {},
   "outputs": [
    {
     "data": {
      "text/plain": [
       "<matplotlib.collections.PathCollection at 0x1946399d720>"
      ]
     },
     "execution_count": 198,
     "metadata": {},
     "output_type": "execute_result"
    },
    {
     "data": {
      "image/png": "[encoded data removed]",
      "text/plain": [
       "<Figure size 640x480 with 1 Axes>"
      ]
     },
     "metadata": {},
     "output_type": "display_data"
    }
   ],
   "source": [
    "plt.scatter(X,y)"
   ]
  },
  {
   "cell_type": "code",
   "execution_count": 185,
   "id": "4867fce2-82c7-4652-af77-19ab72c7338f",
   "metadata": {},
   "outputs": [
    {
     "name": "stdout",
     "output_type": "stream",
     "text": [
      "(100, 1)\n",
      "(100, 1)\n"
     ]
    }
   ],
   "source": [
    "print(X.shape)\n",
    "y=y.reshape(y.shape[0],1)\n",
    "print(y.shape)"
   ]
  },
  {
   "cell_type": "code",
   "execution_count": 186,
   "id": "b574cdb7-1106-499c-9e67-760386e7ad5f",
   "metadata": {},
   "outputs": [
    {
     "data": {
      "text/plain": [
       "(100, 2)"
      ]
     },
     "execution_count": 186,
     "metadata": {},
     "output_type": "execute_result"
    }
   ],
   "source": [
    "#matrice X\n",
    "X=np.hstack((X,np.ones(X.shape)))\n",
    "X.shape"
   ]
  },
  {
   "cell_type": "code",
   "execution_count": 38,
   "id": "437eedb6-f7e6-44cd-9d9a-a0a2dba5c8aa",
   "metadata": {},
   "outputs": [
    {
     "data": {
      "text/plain": [
       "(100, 2)"
      ]
     },
     "execution_count": 38,
     "metadata": {},
     "output_type": "execute_result"
    }
   ],
   "source": [
    "#deuxieme methode\n",
    "X = np.concatenate((X, np.ones((m,1))), axis=1)\n",
    "X.shape"
   ]
  },
  {
   "cell_type": "code",
   "execution_count": 122,
   "id": "44678d9f-937c-492d-a466-524bfe8354e6",
   "metadata": {},
   "outputs": [
    {
     "data": {
      "text/plain": [
       "2"
      ]
     },
     "execution_count": 122,
     "metadata": {},
     "output_type": "execute_result"
    }
   ],
   "source": [
    "m=X.shape[0]\n",
    "n=X.shape[1]\n",
    "n"
   ]
  },
  {
   "cell_type": "code",
   "execution_count": 138,
   "id": "64cffa7d-f73a-4a59-a8c3-2ce422ac492a",
   "metadata": {},
   "outputs": [
    {
     "data": {
      "text/plain": [
       "(2, 1)"
      ]
     },
     "execution_count": 138,
     "metadata": {},
     "output_type": "execute_result"
    }
   ],
   "source": [
    "theta = np.random.randn(n,1)\n",
    "theta.shape"
   ]
  },
  {
   "cell_type": "markdown",
   "id": "6f14c2c8-2833-4de8-9c24-ac2f07c66182",
   "metadata": {},
   "source": [
    "# Modele"
   ]
  },
  {
   "cell_type": "code",
   "execution_count": 140,
   "id": "d37c220c-294c-457a-ac00-f75154deeac1",
   "metadata": {},
   "outputs": [],
   "source": [
    "def model(x,theta):\n",
    "    return x.dot(theta)"
   ]
  },
  {
   "cell_type": "code",
   "execution_count": 141,
   "id": "098e4f4d-f18c-463a-b748-e7f4cb4b21bb",
   "metadata": {},
   "outputs": [],
   "source": [
    "f=model(X,theta)"
   ]
  },
  {
   "cell_type": "code",
   "execution_count": 130,
   "id": "2a5205c6-92d2-4c7b-a301-c7cbf302eb18",
   "metadata": {},
   "outputs": [
    {
     "data": {
      "text/plain": [
       "<matplotlib.collections.PathCollection at 0x19462c1ac80>"
      ]
     },
     "execution_count": 130,
     "metadata": {},
     "output_type": "execute_result"
    },
    {
     "data": {
      "image/png": "[encoded data removed]",
      "text/plain": [
       "<Figure size 640x480 with 1 Axes>"
      ]
     },
     "metadata": {},
     "output_type": "display_data"
    }
   ],
   "source": [
    "plt.plot(X,f,c =\"r\")\n",
    "plt.scatter(X,y)"
   ]
  },
  {
   "cell_type": "markdown",
   "id": "1db60ce3-cf9e-4149-a2eb-d6009d85bb61",
   "metadata": {},
   "source": [
    "# Cost Function"
   ]
  },
  {
   "cell_type": "code",
   "execution_count": 133,
   "id": "076a9582-831e-4bf3-ac72-7673a28db36f",
   "metadata": {},
   "outputs": [],
   "source": [
    "def cost_function(X,y,theta):\n",
    "    m=X.shape[0]\n",
    "\n",
    "    return (1 /(2*m))*np.sum((model(X,theta)-y)**2)"
   ]
  },
  {
   "cell_type": "code",
   "execution_count": 142,
   "id": "1afba53b-733b-4fa1-86bb-add9a489ed4e",
   "metadata": {},
   "outputs": [
    {
     "data": {
      "text/plain": [
       "np.float64(8359897.130555124)"
      ]
     },
     "execution_count": 142,
     "metadata": {},
     "output_type": "execute_result"
    }
   ],
   "source": [
    "loss =  costFunction(X,y,theta)\n",
    "loss"
   ]
  },
  {
   "cell_type": "markdown",
   "id": "5e90f7fc-b63a-4aa6-993c-7e827e84ea1d",
   "metadata": {},
   "source": [
    "# Gradients et Descente de Gradients"
   ]
  },
  {
   "cell_type": "code",
   "execution_count": 170,
   "id": "569163d9-a9c8-45d7-a866-faef552c06f7",
   "metadata": {},
   "outputs": [],
   "source": [
    "def grad(X,y,theta):\n",
    "     m=X.shape[0]\n",
    "     d_theta = (1 /m) * (np.dot(X.T,model(X,theta)-y))\n",
    "     return d_theta\n"
   ]
  },
  {
   "cell_type": "code",
   "execution_count": 171,
   "id": "50387899-95e7-4ad7-8657-44fdfb0813d4",
   "metadata": {},
   "outputs": [
    {
     "data": {
      "text/plain": [
       "array([[-36.31331866],\n",
       "       [  4.65097302]])"
      ]
     },
     "execution_count": 171,
     "metadata": {},
     "output_type": "execute_result"
    }
   ],
   "source": [
    "d_theta=grad(X,y,theta)\n",
    "d_theta"
   ]
  },
  {
   "cell_type": "code",
   "execution_count": 169,
   "id": "5f48c760-9af5-4cdc-b72c-22db4d3b7854",
   "metadata": {},
   "outputs": [],
   "source": [
    "def gradient_descente(theta,d_theta,learning_rate):\n",
    "    return theta - learning_rate * d_theta"
   ]
  },
  {
   "cell_type": "code",
   "execution_count": 152,
   "id": "7d065206-c112-423c-866f-8e38b921ee92",
   "metadata": {},
   "outputs": [
    {
     "data": {
      "text/plain": [
       "array([[7.81819579],\n",
       "       [0.32893846]])"
      ]
     },
     "execution_count": 152,
     "metadata": {},
     "output_type": "execute_result"
    }
   ],
   "source": [
    " gradient_descente(theta,d_theta,0.2)"
   ]
  },
  {
   "cell_type": "markdown",
   "id": "60e2ab1a-9666-4e09-9943-c76ca75daaad",
   "metadata": {},
   "source": [
    "# Machine Learning"
   ]
  },
  {
   "cell_type": "code",
   "execution_count": 183,
   "id": "b26361b7-e7a5-4ec7-998c-d5e764e2f78a",
   "metadata": {},
   "outputs": [],
   "source": [
    "def linear_regression(X,y,learning_rate=0.1,nb_iter=200):\n",
    "\n",
    "    theta = np.random.randn(n,1)\n",
    "    cost_history=[]\n",
    "    for i in range(nb_iter):\n",
    "        \n",
    "        d_theta=grad(X,y,theta)\n",
    "        theta = gradient_descente(theta,d_theta,learning_rate)\n",
    "        cost_history.append(cost_function(X,y,theta))\n",
    "        \n",
    "    return  theta ,cost_history\n",
    "        \n",
    "        \n",
    "        \n",
    "        "
   ]
  },
  {
   "cell_type": "code",
   "execution_count": 187,
   "id": "258b0632-1f04-4828-b489-e0f792c72c5b",
   "metadata": {},
   "outputs": [],
   "source": [
    "theta,cost_history=linear_regression(X,y,learning_rate=0.2,nb_iter=200)"
   ]
  },
  {
   "cell_type": "markdown",
   "id": "934711c4-d62a-4ffa-9bc6-9d6d5246ffdc",
   "metadata": {},
   "source": [
    "# Courbe D'apprentissage"
   ]
  },
  {
   "cell_type": "code",
   "execution_count": 188,
   "id": "07ccb2a8-9b95-4bde-8f1c-1d305bb31c5e",
   "metadata": {},
   "outputs": [
    {
     "data": {
      "image/png": "[encoded data removed]",
      "text/plain": [
       "<Figure size 640x480 with 1 Axes>"
      ]
     },
     "metadata": {},
     "output_type": "display_data"
    }
   ],
   "source": [
    "plt.plot(cost_history)\n",
    "plt.show()"
   ]
  },
  {
   "cell_type": "markdown",
   "id": "621f3f40-ae9d-4cda-84df-9efe82985382",
   "metadata": {},
   "source": [
    "# Evaluation"
   ]
  },
  {
   "cell_type": "code",
   "execution_count": 189,
   "id": "2475bba1-d6b4-4488-a0a7-38d2505df2e8",
   "metadata": {},
   "outputs": [],
   "source": [
    "predictions = model(X,theta)"
   ]
  },
  {
   "cell_type": "code",
   "execution_count": 191,
   "id": "12ec3160-812a-4d73-b326-7af2ab3e763f",
   "metadata": {},
   "outputs": [
    {
     "data": {
      "text/plain": [
       "[<matplotlib.lines.Line2D at 0x19463963130>]"
      ]
     },
     "execution_count": 191,
     "metadata": {},
     "output_type": "execute_result"
    },
    {
     "data": {
      "image/png": "[encoded data removed]",
      "text/plain": [
       "<Figure size 640x480 with 1 Axes>"
      ]
     },
     "metadata": {},
     "output_type": "display_data"
    }
   ],
   "source": [
    "plt.scatter(X,y)\n",
    "plt.plot(X,predictions ,c=\"r\")"
   ]
  },
  {
   "cell_type": "markdown",
   "id": "bb0ddbcb-3f33-480e-95e3-8ded0363ef8f",
   "metadata": {},
   "source": [
    "# Coefficient de determination"
   ]
  },
  {
   "cell_type": "code",
   "execution_count": 287,
   "id": "d55a6c2a-d768-41f7-bc6c-f41be79b4759",
   "metadata": {},
   "outputs": [],
   "source": [
    "def coef_determination(y,pred):\n",
    "    u=(y-pred).sum()\n",
    "    v= ((y-y.mean())**2).sum()\n",
    "    return 1- (u/v)"
   ]
  },
  {
   "cell_type": "code",
   "execution_count": 285,
   "id": "376474c1-9e4f-4279-8839-9db6ec1e6026",
   "metadata": {},
   "outputs": [
    {
     "data": {
      "text/plain": [
       "np.float64(0.9997702233861563)"
      ]
     },
     "execution_count": 285,
     "metadata": {},
     "output_type": "execute_result"
    }
   ],
   "source": [
    "r2=coef_determination(y,predictions)\n",
    "r2"
   ]
  },
  {
   "cell_type": "markdown",
   "id": "7c319c60-8937-4e34-9983-0774a512c331",
   "metadata": {},
   "source": [
    "## This LinearRegression class implements a simple linear regression model in Python using gradient descent. It adds a bias term to the input data, initializes the weights randomly, and updates them iteratively to minimize the Mean Squared Error (MSE). The fit() method trains the model, while the predict() method makes predictions on new data. "
   ]
  },
  {
   "cell_type": "code",
   "execution_count": 299,
   "id": "e2b7e672-8837-4a98-b93d-c328ac2f60c2",
   "metadata": {},
   "outputs": [],
   "source": [
    "class LinearRegression:\n",
    "    def __init__(self,learning_rate,nb_iter):\n",
    "        \n",
    "        #self.X = np.hstack((X,np.ones(X.shape)))\n",
    "        #self.y = y=y.reshape(y.shape[0],1)\n",
    "        self.learning_rate = learning_rate\n",
    "        self.nb_iter = nb_iter\n",
    "        self.theta = None\n",
    "        self.cost_history = []\n",
    "        \n",
    "\n",
    "\n",
    "    def model(self,X,theta):\n",
    "        return np.dot(X,theta)\n",
    "\n",
    "    def cost_function(X,y,theta):\n",
    "        m=X.shape[0]\n",
    "        return (1 /(2*m))*np.sum((model(X,theta)-y)**2)    \n",
    "\n",
    "    def grad(self,X,y,theta):\n",
    "        m=X.shape[0]\n",
    "        d_theta = (1 /m) * (np.dot(X.T,model(X,theta)-y))\n",
    "        return d_theta\n",
    "\n",
    "    #def gradient_descente(theta,d_theta,learning_rate):\n",
    "        #return theta - learning_rate * d_theta  \n",
    "\n",
    "    def fit(self,X,y):\n",
    "        # Ajouter une colonne de 1 pour le biais\n",
    "        self.X = np.hstack((X,np.ones(X.shape)))\n",
    "        self.y = y=y.reshape(y.shape[0],1)\n",
    "        \n",
    "        self.theta=np.random.randn(self.X.shape[1],1)\n",
    "\n",
    "        #cost_history=[]\n",
    "        for i in range(self.nb_iter):\n",
    "        \n",
    "            d_theta=grad(self.X,self.y,self.theta)\n",
    "            self.theta = self.theta  - self.learning_rate * d_theta \n",
    "            self.cost_history.append(cost_function(self.X,self.y,self.theta))\n",
    "        \n",
    "        return  theta , self.cost_history\n",
    "\n",
    "\n",
    "    def predict(self,x_test):\n",
    "            x_test = np.hstack((x_test,np.ones(x_test.shape)))\n",
    "            return model(x_test,self.theta)\n"
   ]
  },
  {
   "cell_type": "code",
   "execution_count": 296,
   "id": "36ac8760-b612-49bc-b2d9-e33a80c431d4",
   "metadata": {},
   "outputs": [],
   "source": [
    "mode =  LinearRagression(0.1,100)"
   ]
  },
  {
   "cell_type": "code",
   "execution_count": 297,
   "id": "cbe7e616-c199-4b2d-92e7-950b36f6ecd9",
   "metadata": {},
   "outputs": [],
   "source": [
    "theta,cost_history=mode.fit(X,y)"
   ]
  },
  {
   "cell_type": "code",
   "execution_count": 298,
   "id": "f1a13920-e776-4c23-b768-77d0b2a30a45",
   "metadata": {},
   "outputs": [
    {
     "data": {
      "image/png": "[encoded data removed]",
      "text/plain": [
       "<Figure size 640x480 with 1 Axes>"
      ]
     },
     "metadata": {},
     "output_type": "display_data"
    }
   ],
   "source": [
    "plt.plot(cost_history)\n",
    "plt.show()"
   ]
  },
  {
   "cell_type": "code",
   "execution_count": 293,
   "id": "eb129fab-eba5-4304-a534-68261015ddbe",
   "metadata": {},
   "outputs": [],
   "source": [
    "predictions=mode.predict(X)"
   ]
  },
  {
   "cell_type": "code",
   "execution_count": 294,
   "id": "6eae7d94-5a63-41ec-aaf5-f95b501d5545",
   "metadata": {},
   "outputs": [
    {
     "data": {
      "text/plain": [
       "np.float64(0.9997745779366438)"
      ]
     },
     "execution_count": 294,
     "metadata": {},
     "output_type": "execute_result"
    }
   ],
   "source": [
    "coef_determination(y,predictions)"
   ]
  },
  {
   "cell_type": "code",
   "execution_count": null,
   "id": "c74ee8f9-ee6a-42c3-992c-1745ecaefebd",
   "metadata": {},
   "outputs": [],
   "source": []
  }
 ],
 "metadata": {
  "kernelspec": {
   "display_name": "Python 3 (ipykernel)",
   "language": "python",
   "name": "python3"
  },
  "language_info": {
   "codemirror_mode": {
    "name": "ipython",
    "version": 3
   },
   "file_extension": ".py",
   "mimetype": "text/x-python",
   "name": "python",
   "nbconvert_exporter": "python",
   "pygments_lexer": "ipython3",
   "version": "3.10.11"
  }
 },
 "nbformat": 4,
 "nbformat_minor": 5
}
